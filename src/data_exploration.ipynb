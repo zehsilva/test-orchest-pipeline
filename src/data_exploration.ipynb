{
 "cells": [
  {
   "cell_type": "code",
   "execution_count": null,
   "source": [
    "import orchest\n",
    "import pandas as pd\n",
    "import plotly.graph_objects as go\n",
    "\n",
    "inputs = orchest.get_inputs()\n",
    "invars = [x for x in inputs.keys() if x.startswith(\"clfy_read_result\")]"
   ],
   "outputs": [],
   "metadata": {}
  },
  {
   "cell_type": "code",
   "execution_count": null,
   "source": [
    "for key in invars:\n",
    "    response = inputs[invars]\n",
    "    data = response.result.data\n",
    "\n",
    "    item_dict = response.result.items\n",
    "\n",
    "    for item_id, meta_data in item_dict.items():\n",
    "        item_name = meta_data.name\n",
    "        times = data.times\n",
    "        series = data.series\n",
    "        values = series[item_id] \n",
    "\n",
    "        fig = go.Figure()\n",
    "        fig.add_trace(go.Scatter(x=times, y=values))\n",
    "        fig.update_layout(title=item_name)\n",
    "        fig.show()"
   ],
   "outputs": [],
   "metadata": {}
  }
 ],
 "metadata": {
  "orig_nbformat": 4,
  "language_info": {
   "name": "python"
  }
 },
 "nbformat": 4,
 "nbformat_minor": 2
}